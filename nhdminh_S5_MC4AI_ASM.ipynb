{
  "cells": [
    {
      "cell_type": "markdown",
      "metadata": {
        "id": "ERhXJ1BqQNSP"
      },
      "source": [
        "<h1>\n",
        "\n",
        "<img src=\"https://i.imgur.com/CNzsBzU.png\" alt=\"logo\" width=\"30%\">\n",
        "\n",
        "<h1>MC4AI | Math & Code for AI</h1>\n",
        "\n",
        "<h2>Session 5 - Assignment</h2>\n",
        "\n",
        "<h4>&copy;CoTAI. For Personal Use Only.</h4>\n",
        "\n",
        "</h1>"
      ]
    },
    {
      "cell_type": "markdown",
      "metadata": {
        "id": "woKNsf_0RbOh"
      },
      "source": [
        "#**Problem 1**"
      ]
    },
    {
      "cell_type": "markdown",
      "metadata": {
        "id": "xx62F6H2RbO6"
      },
      "source": [
        "Dùng các hàm random của `numpy` để tạo dataset gồm 50 điểm dữ liệu có dạng đường thẳng như sau:\n",
        "\n",
        "<img src=https://i.imgur.com/XNH9RYv.png width=300>"
      ]
    },
    {
      "cell_type": "code",
      "execution_count": 1,
      "metadata": {
        "id": "uoyMWrDcVqIX"
      },
      "outputs": [
        {
          "data": {
            "image/png": "[encoded data removed]",
            "text/plain": [
              "<Figure size 640x480 with 1 Axes>"
            ]
          },
          "metadata": {},
          "output_type": "display_data"
        }
      ],
      "source": [
        "import numpy as np\n",
        "import matplotlib.pyplot as plt\n",
        "\n",
        "# YOUR CODE HERE\n",
        "np.random.seed(1)\n",
        "def f(x):\n",
        "    return .7*x+np.random.randint(2,10)\n",
        "\n",
        "x = [np.random.randint(0,50) for i in range(50)]\n",
        "fx = [f(z) for z in x]\n",
        "plt.scatter(x,fx)\n",
        "plt.show()"
      ]
    },
    {
      "cell_type": "markdown",
      "metadata": {
        "id": "TCq9Ys4nSnKH"
      },
      "source": [
        "#**Problem 2**"
      ]
    },
    {
      "cell_type": "markdown",
      "metadata": {
        "id": "dj4l35mXSnKH"
      },
      "source": [
        "Giả sử từ trường về nhà bạn mất `n` bước đi bộ. Bạn đi về nhà bằng cách tung đồng xu, nếu ra mặt sấp thì tiến `t` bước, nếu mặt ngửa thì lùi `k` bước (không lùi quá vạch xuất phát). Xác suất ra mặt sấp là `p`. Hỏi sau `m` lượt tung đồng xu bạn có thể về nhà không (nếu về nhà trước `m` lượt thì dừng) ?\n",
        "\n",
        "**Input**\n",
        "- Dòng 1: 4 số nguyên `m,n,t,k`\n",
        "- Dòng 2: số thực `p`\n",
        "\n",
        "**Output:** kết quả `Yes`/`No` và vị trí cuối cùng so với vạch xuất phát\n",
        "\n",
        "\n",
        "<br>\n",
        "\n",
        "\n",
        "**Test-case 1**\n",
        "- Input\n",
        "```\n",
        "20 30 2 1\n",
        ".5\n",
        "```\n",
        "- Output\n",
        "```\n",
        "No 8\n",
        "```\n",
        "\n",
        "**Test-case 2**\n",
        "- Input\n",
        "```\n",
        "20 30 2 1\n",
        ".9\n",
        "```\n",
        "- Output\n",
        "```\n",
        "Yes 30\n",
        "```\n",
        "\n",
        "**Test-case 3**\n",
        "- Input\n",
        "```\n",
        "20 30 4 1\n",
        ".5\n",
        "```\n",
        "- Output\n",
        "```\n",
        "No 26\n",
        "```\n",
        "\n",
        "**Test-case 4**\n",
        "- Input\n",
        "```\n",
        "20 10 1 2\n",
        ".5\n",
        "```\n",
        "- Output\n",
        "```\n",
        "No 0\n",
        "```"
      ]
    },
    {
      "cell_type": "code",
      "execution_count": 94,
      "metadata": {
        "id": "0b13qpD7SnKI"
      },
      "outputs": [
        {
          "name": "stdout",
          "output_type": "stream",
          "text": [
            "20 30 2 1 [0.9]\n",
            "YES 30\n"
          ]
        }
      ],
      "source": [
        "import numpy as np\n",
        "np.random.seed(22)\n",
        "\n",
        "# YOUR CODE HERE\n",
        "m,n,t,k = list(map(int, input().split()))\n",
        "p = list(map(float, input().split()))\n",
        "\n",
        "pos = 0\n",
        "for i in range(m):\n",
        "    pos += t if (np.random.binomial(1,p)>0)  else -k\n",
        "    if pos<0: pos=0\n",
        "    if pos>=n: break\n",
        "if pos>=n:\n",
        "    print(f\"YES {pos}\")\n",
        "else: \n",
        "    print(f\"No {pos}\")\n"
      ]
    },
    {
      "cell_type": "markdown",
      "metadata": {
        "id": "EvbFp0xgSog-"
      },
      "source": [
        "#**Problem 3**"
      ]
    },
    {
      "cell_type": "markdown",
      "metadata": {
        "id": "9-FdmTDgSog_"
      },
      "source": [
        "Tí & Tèo cá cược với nhau như sau: Từ trường về nhà đi bộ mất `d` bước, Tí & Tèo cùng nhau tung xúc xắc, mỗi lần tung hiện ra nút nào thì bước đi đúng bằng số nút đó. Sau `n` lần, ai tới nhà trước hoặc chưa tới nhà thì ai đi được xa hơn thì người đó thắng, nếu có ai tới nhà trước `n` lần chơi thì dừng luôn. Hãy dùng các hàm random của numpy để giả lập trò chơi của Tí & Tèo\n",
        "\n",
        "**Input**\n",
        "- Dòng 1: 2 số nguyên `d,n`\n",
        "- Dòng 2: list 6 số thực cho biết xác suất xuất hiện các mặt của xúc xắc theo thứ tự từ 1-6\n",
        "\n",
        "**Output**\n",
        "- Dòng 1: Tên người thắng, nếu hoà thì in ra `Hòa`\n",
        "- Dòng 2: list chứa lịch sử các bước đi của Tí\n",
        "- Dòng 3: list chứa lịch sử các bước đi của Tèo\n",
        "\n",
        "**Hướng dẫn:** dùng hàm `np.random.multinomial` với tham số `size=2` để mô phỏng mỗi lượt tung xúc xắc của Tí & Tèo\n",
        "\n",
        "<br>\n",
        "\n",
        "**Test-case 1**\n",
        "- Input\n",
        "```\n",
        "20 5\n",
        ".3 .1 .1 .1 .3 .1\n",
        "```\n",
        "- Output\n",
        "```\n",
        "Tí\n",
        "2 8 9 14 19\n",
        "1 5 10 15 16\n",
        "```\n",
        "- Giải thích:\n",
        "  - Lần tung xúc xắc đầu tiên: Tí 2 nút, Tèo 1 nút\n",
        "  - Lần 2: Tí 6 nút, Tèo 4 nút -> cộng dồn với lần đầu Tí đi được 8 bước, Tèo 5 bước\n",
        "  - Lần 3: Tí 1 nút, Tèo 5 nút -> cộng dồn với 2 lần trước Tí đi được 9 bước, Tèo 10 bước\n",
        "  - Tương tự cho 2 lần tung xúc xắc tiếp theo, kết quả Tí được 19 bước, Tèo 16 bước nên Tí thắng\n",
        "\n",
        "**Test-case 2**\n",
        "- Input\n",
        "```\n",
        "50 20\n",
        ".1 .1 .1 .1 .2 .4\n",
        "```\n",
        "- Output\n",
        "```\n",
        "Tèo\n",
        "2 7 13 19 20 24 26 29 35 40\n",
        "6 12 18 20 26 32 34 40 44 50\n",
        "```\n",
        "\n",
        "**Test-case 3**\n",
        "- Input\n",
        "```\n",
        "20 5\n",
        ".1 .1 .3 .2 .3 .0\n",
        "```\n",
        "- Output\n",
        "```\n",
        "Tí\n",
        "2 5 10 15 18\n",
        "5 7 11 16 17\n",
        "```\n",
        "\n",
        "**Test-case 4**\n",
        "- Input\n",
        "```\n",
        "20 10\n",
        ".0 .0 .0 .1 .1 .8\n",
        "```\n",
        "- Output\n",
        "```\n",
        "Hòa\n",
        "5 11 17 23\n",
        "6 12 17 23\n",
        "```"
      ]
    },
    {
      "cell_type": "code",
      "execution_count": 129,
      "metadata": {
        "id": "ecSiFRtWSog_"
      },
      "outputs": [
        {
          "name": "stdout",
          "output_type": "stream",
          "text": [
            "Tèo\n",
            "[5. 2. 2. 1. 2.]\n",
            "[4. 6. 2. 5. 4.]\n"
          ]
        }
      ],
      "source": [
        "import numpy as np\n",
        "\n",
        "# YOUR CODE HERE\n",
        "# d,n = list(map(int, input().split()))\n",
        "# p = list(map(float, input().split()))\n",
        "d,n = 20, 5 \n",
        "p = [.3, .1, .1, .1, .3, .1]\n",
        "\n",
        "\n",
        "move = np.array([[],[]])\n",
        "# print(d,n,p)\n",
        "for i in range(n):\n",
        "    xs = np.random.multinomial(1,p,size=2)\n",
        "    move = np.append(move,np.array([[xs[0,].argmax()+1],[xs[1,].argmax()+1]]),axis=1)\n",
        "    # print(move)\n",
        "    if (move[0].sum() >= d) or ((move[1].sum() >= d)): \n",
        "        break\n",
        "if (move[0].sum() > move[1].sum()):\n",
        "    print('Tí')\n",
        "elif (move[0].sum() < move[1].sum()):\n",
        "    print('Tèo')\n",
        "else:\n",
        "    print('Hoà')\n",
        "print(f'{move[0]}')\n",
        "print(f'{move[1]}')"
      ]
    },
    {
      "cell_type": "markdown",
      "metadata": {
        "id": "WYs83xYgSjon"
      },
      "source": [
        "#**Problem 4**"
      ]
    },
    {
      "cell_type": "markdown",
      "metadata": {
        "id": "_VZnPnutVc1R"
      },
      "source": [
        "Sở Giáo Dục TPHCM tổ chức kiểm tra môn Tiếng Anh cho toàn bộ học sinh cấp ba. Số lượng học sinh tham gia là 10,000. Hãy giả lập số liệu kỳ thi này theo phân phối Gauss như sau:\n",
        "- Điểm trung bình: 7\n",
        "- Độ lệch chuẩn: 1.5"
      ]
    },
    {
      "cell_type": "code",
      "execution_count": 274,
      "metadata": {
        "id": "UChbSQbTpHTy"
      },
      "outputs": [
        {
          "data": {
            "text/plain": [
              "array([[9.68294271],\n",
              "       [7.65476478],\n",
              "       [7.1447462 ],\n",
              "       ...,\n",
              "       [8.11303087],\n",
              "       [6.31642151],\n",
              "       [7.63327908]])"
            ]
          },
          "execution_count": 274,
          "metadata": {},
          "output_type": "execute_result"
        }
      ],
      "source": [
        "import numpy as np\n",
        "np.random.seed(3)\n",
        "\n",
        "# YOUR CODE HERE: tạo ra numpy array chứa điểm của 10000 học sinh theo phân phối Gauss\n",
        "grades = np.random.normal(loc = 7, scale = 1.5, size=(10000,1))\n",
        "grades"
      ]
    },
    {
      "cell_type": "markdown",
      "metadata": {
        "id": "IZlrbKNWpb8A"
      },
      "source": [
        "Sửa lại những bài trên 10 thành 10 điểm (dùng hàm `numpy`, không dùng vòng lặp) sau đó làm tròn điểm về 0 số lẻ thập phân bằng hàm `np.round`"
      ]
    },
    {
      "cell_type": "code",
      "execution_count": 275,
      "metadata": {
        "id": "3PTTjjhxqeuM"
      },
      "outputs": [
        {
          "data": {
            "text/plain": [
              "array([[10.],\n",
              "       [ 8.],\n",
              "       [ 7.],\n",
              "       ...,\n",
              "       [ 8.],\n",
              "       [ 6.],\n",
              "       [ 8.]])"
            ]
          },
          "execution_count": 275,
          "metadata": {},
          "output_type": "execute_result"
        }
      ],
      "source": [
        "# YOUR CODE HERE\n",
        "grades = np.where(grades>10,10,grades)\n",
        "grades = np.round(grades,0)\n",
        "grades"
      ]
    },
    {
      "cell_type": "markdown",
      "metadata": {
        "id": "9wdAXzpqqiI7"
      },
      "source": [
        "Thống kê số lượng từng điểm số (0,1,...10) bằng hàm `np.unique` và vẽ đồ thị thống kê điểm số bằng hàm [**`bar`**](https://matplotlib.org/stable/api/_as_gen/matplotlib.pyplot.bar.html) của `matplotlib`"
      ]
    },
    {
      "cell_type": "code",
      "execution_count": 276,
      "metadata": {
        "id": "WLzs-qODrcJU"
      },
      "outputs": [
        {
          "name": "stdout",
          "output_type": "stream",
          "text": [
            "[ 1.  2.  3.  4.  5.  6.  7.  8.  9. 10.]\n",
            "[1, 12, 80, 412, 1139, 2203, 2577, 2081, 1035, 459]\n"
          ]
        },
        {
          "data": {
            "image/png": "[encoded data removed]",
            "text/plain": [
              "<Figure size 640x480 with 1 Axes>"
            ]
          },
          "metadata": {},
          "output_type": "display_data"
        }
      ],
      "source": [
        "import matplotlib.pyplot as plt\n",
        "\n",
        "# YOUR CODE HERE\n",
        "statistic = np.unique(grades)\n",
        "print(statistic)\n",
        "statistic = [np.count_nonzero(np.where(grades == statistic[x])) for x in range(len(statistic))]\n",
        "print((statistic))\n",
        "plt.bar([i for i in range(len(statistic))],statistic)\n",
        "plt.show()"
      ]
    },
    {
      "cell_type": "markdown",
      "metadata": {
        "id": "XGW15v4wsxZu"
      },
      "source": [
        "Tính xác suất từng điểm số và vẽ đồ thị bar của xác suất đó, kèm với đồ thị của hàm Gauss với $\\mu=7, \\sigma=1.5$ để biết bảng điểm tạo ra có tuân theo quy luật phân phối Gauss hay không\n",
        "\n",
        "**Hướng dẫn cách tính xác suất:**\n",
        "- Gọi $x$ là biến ngẫu nhiên lưu điểm số của học sinh, xác suất để $x=k, (k \\in [0,10])$ được xác định bằng công thức $p(x=k) = \\frac{n_k}{n}$, với $n$ là số lượng bài thi và $n_k$ là số lượng bài thi đạt điểm $k$\n",
        "- Ví dụ: giả sử có 1000 bài thi, trong có 300 bài đạt điểm 6 $\\Rightarrow n=1000, n_6=300, p(x=6)=\\frac{300}{1000} = 30\\% = 0.3$"
      ]
    },
    {
      "cell_type": "code",
      "execution_count": 281,
      "metadata": {
        "id": "MZMgjpBcthjN"
      },
      "outputs": [
        {
          "data": {
            "image/png": "[encoded data removed]",
            "text/plain": [
              "<Figure size 640x480 with 1 Axes>"
            ]
          },
          "metadata": {},
          "output_type": "display_data"
        }
      ],
      "source": [
        "# YOUR CODE HERE\n",
        "x = np.linspace(0,10)\n",
        "mean = 7\n",
        "sd = 1.5\n",
        "\n",
        "def f(x,mean,sd):\n",
        "    return (1/(sd*(2*np.pi)**.5))*np.exp(-(x-mean)**2/2*sd**2)\n",
        "\n",
        "pstatistic = [statistic[x]/sum(statistic) for x in range(len(statistic))]\n",
        "plt.bar([i for i in range(len(pstatistic))],pstatistic,label =\"bar\")\n",
        "plt.plot(x,f(x,mean,sd),label =\"line\", c = 'red')\n",
        "plt.legend()\n",
        "plt.show()\n"
      ]
    },
    {
      "cell_type": "markdown",
      "metadata": {
        "id": "FD2ksUHzBSkA"
      },
      "source": [
        "#**Problem 5**"
      ]
    },
    {
      "cell_type": "markdown",
      "metadata": {
        "id": "HHpyJW7jBSMO"
      },
      "source": [
        "Tạo app Streamlit cho phép vẽ đồ thị của hàm mật độ phân phối Gauss có giao diện như hình dưới đây. Yêu cầu: tạo Github Repository & deploy public.\n",
        "\n",
        "**Hướng dẫn**: xem mục **Streamlit Charts** trong S4: Post-Class ✍️ để biết cách vẽ đồ thị Matplotlib trên app Streamlit\n",
        "\n",
        "<br>\n",
        "\n",
        "<img src=https://i.imgur.com/KOyt8Wo.gif>"
      ]
    },
    {
      "cell_type": "code",
      "execution_count": null,
      "metadata": {
        "id": "4qZRnie-B0cJ"
      },
      "outputs": [],
      "source": [
        "# YOUR REPOSITORY LINK:\n",
        "#https://github.com/nhducminh/\n",
        "# YOUR PUBLIC LINK:\n",
        "#https://github.com/nhducminh/CotAI.git"
      ]
    },
    {
      "cell_type": "markdown",
      "metadata": {
        "id": "Q1doLvWLCvMu"
      },
      "source": [
        "#**Problem 6** (Optional)"
      ]
    },
    {
      "cell_type": "markdown",
      "metadata": {
        "id": "pOKXhi7lFgVv"
      },
      "source": [
        "Vẽ đồ thị 3D của hàm phân phối chuẩn 2 biến. Cho trước vector trung bình $\\mu$ và ma trận hiệp phương sai $\\Sigma$\n",
        "\n",
        "$$p(\\boldsymbol{x}) = \\frac{1}{(2\\pi)^{(n/2)}|\\Sigma|^{1/2}} \\text{exp}(-\\frac{1}{2}(\\boldsymbol{x}-\\boldsymbol{\\mu})^T \\Sigma^{-1}(\\boldsymbol{x}-\\boldsymbol{\\mu}))$$\n",
        "\n",
        "**Hướng dẫn**:\n",
        "- Xem mục **Multivariate Normal Distribution** trong S5: Post-Class ✍️\n",
        "- Dùng hàm `np.linalg.det` để tính định thức của ma trận ($|\\Sigma|$)\n",
        "- Dùng hàm `np.linalg.pinv` để tính ma trận nghịch đảo ($\\Sigma^{-1}$)"
      ]
    },
    {
      "cell_type": "code",
      "execution_count": null,
      "metadata": {
        "id": "DCoYRxfCFg4X"
      },
      "outputs": [],
      "source": [
        "import numpy as np\n",
        "from numpy.linalg import det, pinv\n",
        "import plotly.graph_objects as go\n",
        "\n",
        "m = [0, 0]              # mean vector\n",
        "s = [[1, 0], [0, 1]]    # covariance matrix\n",
        "\n",
        "# YOUR CODE HERE\n"
      ]
    }
  ],
  "metadata": {
    "colab": {
      "provenance": [],
      "toc_visible": true
    },
    "kernelspec": {
      "display_name": "Python 3",
      "name": "python3"
    },
    "language_info": {
      "codemirror_mode": {
        "name": "ipython",
        "version": 3
      },
      "file_extension": ".py",
      "mimetype": "text/x-python",
      "name": "python",
      "nbconvert_exporter": "python",
      "pygments_lexer": "ipython3",
      "version": "3.11.7"
    }
  },
  "nbformat": 4,
  "nbformat_minor": 0
}
